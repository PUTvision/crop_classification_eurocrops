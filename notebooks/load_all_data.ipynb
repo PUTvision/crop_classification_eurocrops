{
 "cells": [
  {
   "cell_type": "markdown",
   "metadata": {},
   "source": [
    "### Imports"
   ]
  },
  {
   "cell_type": "code",
   "execution_count": 3,
   "metadata": {},
   "outputs": [],
   "source": [
    "from dataclasses import dataclass\n",
    "import datetime as dt\n",
    "import numpy as np\n",
    "import os\n",
    "import h5py\n",
    "import matplotlib.pyplot as plt\n",
    "import pandas as pd\n",
    "import json\n",
    "import random\n",
    "import sklearn\n",
    "from tqdm import tqdm\n",
    "import copy\n",
    "import plotly.express as px\n",
    "from collections import Counter\n",
    "\n",
    "%matplotlib inline"
   ]
  },
  {
   "cell_type": "code",
   "execution_count": 4,
   "metadata": {},
   "outputs": [],
   "source": [
    "from torch import nn\n",
    "import torch"
   ]
  },
  {
   "cell_type": "code",
   "execution_count": 5,
   "metadata": {},
   "outputs": [],
   "source": [
    "import torch\n",
    "seed = 34\n",
    "torch.manual_seed(seed)\n",
    "random.seed(seed)\n",
    "np.random.seed(seed)"
   ]
  },
  {
   "cell_type": "code",
   "execution_count": 6,
   "metadata": {},
   "outputs": [
    {
     "name": "stdout",
     "output_type": "stream",
     "text": [
      "cache location: /home/przemek/Projects/pp/eurocrops/notebooks/cachedir\n"
     ]
    }
   ],
   "source": [
    "from joblib import Memory\n",
    "location = os.path.abspath('./cachedir')\n",
    "print(f'cache location: {location}')\n",
    "memory = Memory(location, verbose=0)\n"
   ]
  },
  {
   "cell_type": "code",
   "execution_count": 7,
   "metadata": {},
   "outputs": [],
   "source": [
    "plt.rcParams['figure.figsize'] = [15, 8]"
   ]
  },
  {
   "cell_type": "markdown",
   "metadata": {},
   "source": [
    "### Load Data"
   ]
  },
  {
   "cell_type": "code",
   "execution_count": 8,
   "metadata": {},
   "outputs": [],
   "source": [
    "ROOT_DATA_PATH = '/media/data/local/eurocrops/m1615987/'\n",
    "H5_FILE_PATH = os.path.join(ROOT_DATA_PATH, 'HDF5s/train/AT_T33UWP_train.h5')"
   ]
  },
  {
   "cell_type": "code",
   "execution_count": 9,
   "metadata": {},
   "outputs": [],
   "source": [
    "NUMBER_OF_CHANNELS = 13"
   ]
  },
  {
   "cell_type": "code",
   "execution_count": null,
   "metadata": {},
   "outputs": [],
   "source": []
  },
  {
   "cell_type": "code",
   "execution_count": 10,
   "metadata": {},
   "outputs": [],
   "source": [
    "def _load_data_from_h5_file(h5_file_path):\n",
    "    hdf = pd.HDFStore(h5_file_path, mode='r') #here we directly load the .h5 file in one go using pandas.\n",
    "    region_names = hdf.keys()  #list all the keys or regions in the region (for eg- AT112)\n",
    "    region_names = region_names #[:3] - potentially limit amount of data\n",
    "    df_datas = []\n",
    "\n",
    "    for region_name in tqdm(region_names):\n",
    "        df_data_single = hdf.get(f'/{region_name}') #selecting a region from based on the key (AT112 for eg.)\n",
    "        df_datas.append(df_data_single)\n",
    "    \n",
    "    #len(set.union(*[set(x.columns) for x in df_datas]))  120 columns now, but for one region there are only 80, intesection 44\n",
    "    #len(set.intersection(*[set(x.columns) for x in df_datas]))  # 120 columns now, but for one region there are only 80\n",
    "    \n",
    "    return df_datas, region_names\n",
    "        \n",
    "\n",
    "def _is_column_in_row_inalid(rc):\n",
    "    # all_zeros = not np.any(rc) - old version - all values 0\n",
    "    # new version - 2 interesting values 0 (it happens sometimes that only one channel is not zero)\n",
    "    return rc[4-1] == 0 and rc[8-1] == 0  \n",
    "    \n",
    "    \n",
    "def _find_closest_non_zero_column(time_index, common_days, dates_list, row):\n",
    "    # this time step is zero, we needto find another one that is not zero.\n",
    "    # To do it, find all closest non-zero columns (for all time steps for this row) \n",
    "        \n",
    "    time_distance_to_nonzero_columns = [abs(common_days[time_index] - v) for v in dates_list]\n",
    "    for k in range(len(time_distance_to_nonzero_columns)):\n",
    "        #if not np.any(row.iloc[k]):\n",
    "        if _is_column_in_row_inalid(row.iloc[k]):\n",
    "            time_distance_to_nonzero_columns[k] = 9999\n",
    "    closest_nonzero_column = np.argmin(time_distance_to_nonzero_columns)\n",
    "    return closest_nonzero_column\n",
    "\n",
    "    \n",
    "def _resample_and_concatenate_regions_data(df_datas, resampled_days_interval):\n",
    "    # Conatenation of data with different dates - fixed interval span, with finding closes date (better to use interpolation, but not with nois cloud data)\n",
    "    DI = resampled_days_interval  # days interval\n",
    "    common_days = list(range(DI, 365, DI))\n",
    "    print(f'len(common_days) = {len(common_days)}')\n",
    "    # common_days_datetime = [for day in common_days]\n",
    "\n",
    "    # year = int(timesteps[10][:4])\n",
    "    # new_year_day = dt.datetime(year=year, month=1, day=1)\n",
    "    # dates_list = [((dt.datetime.strptime(date, tf)- new_year_day).days + 1) for date in timesteps]\n",
    "\n",
    "    df_data_all = pd.DataFrame(columns=common_days)\n",
    "\n",
    "\n",
    "    for df_data_single in tqdm(df_datas):\n",
    "        timesteps = list(df_data_single.columns)\n",
    "        year = int(timesteps[10][:4])\n",
    "        new_year_day = dt.datetime(year=year, month=1, day=1)\n",
    "        tf = '%Y%m%d'\n",
    "        dates_list = [((dt.datetime.strptime(date, tf)- new_year_day).days + 1) for date in timesteps]\n",
    "        df_data_single = df_data_single.rename(columns={old: new for old, new in zip(timesteps, dates_list)})\n",
    "\n",
    "        closest_columns = []\n",
    "        for common_day in common_days:\n",
    "            closest_column = np.argmin([abs(common_day - v) for v in dates_list])\n",
    "            closest_columns.append(closest_column)\n",
    "\n",
    "        new_frames = []\n",
    "        for index, row in df_data_single.iterrows():\n",
    "            resampled_row_data = []\n",
    "            \n",
    "            for i, closest_column in enumerate(closest_columns):\n",
    "                rc = row.iloc[closest_column]\n",
    "                invalid_rc = _is_column_in_row_inalid(rc)\n",
    "                if invalid_rc:\n",
    "                    closest_nonzero_column = _find_closest_non_zero_column(\n",
    "                        time_index=i,\n",
    "                        common_days=common_days,\n",
    "                        dates_list=dates_list, \n",
    "                        row=row)\n",
    "                    rc = row.iloc[closest_nonzero_column]\n",
    "                \n",
    "                resampled_row_data.append(rc)\n",
    "\n",
    "            resampled_row_df = pd.DataFrame([resampled_row_data], columns=common_days, index=[index])\n",
    "            new_frames.append(resampled_row_df)\n",
    "\n",
    "        new_frames_df = pd.concat(new_frames)\n",
    "        df_data_all = pd.concat([df_data_all, new_frames_df])\n",
    "    \n",
    "    return df_data_all, common_days\n",
    "\n",
    "\n",
    "def _load_all_labels(region_names):\n",
    "    df_labels_all_lists = []\n",
    "    for region_name in region_names:\n",
    "        region_name = region_name.strip('/')\n",
    "        LABELS_CSV_FILE_PATH = os.path.join(ROOT_DATA_PATH, f'csv_labels/train/demo_eurocrops_{region_name}.csv')\n",
    "        GEO_JSON_FILE_PATH = os.path.join(ROOT_DATA_PATH, f'GeoJSONs_regional_split/train/AT/demo_eurocrops_{region_name}.geojson')\n",
    "\n",
    "        # csv_file_path = os.path.join(train_csv_dir, csv_file_name)\n",
    "        df_labels = pd.read_csv(LABELS_CSV_FILE_PATH, index_col=0)\n",
    "        df_labels_all_lists.append(df_labels)\n",
    "\n",
    "\n",
    "    df_labels_all = pd.concat(df_labels_all_lists)\n",
    "    return df_labels_all\n",
    "    \n",
    "\n",
    "@memory.cache\n",
    "def load_all_data_from_file_resampled(\n",
    "        h5_file_path: str, \n",
    "        resampled_days_interval: int,\n",
    "        ):\n",
    "    df_datas, region_names = _load_data_from_h5_file(h5_file_path=h5_file_path)\n",
    "    df_data_all, common_days = _resample_and_concatenate_regions_data(df_datas=df_datas, resampled_days_interval=resampled_days_interval)\n",
    "    \n",
    "    df_labels_all = _load_all_labels(region_names=region_names)\n",
    "\n",
    "    return df_data_all, df_labels_all, common_days, region_names"
   ]
  },
  {
   "cell_type": "code",
   "execution_count": 11,
   "metadata": {},
   "outputs": [],
   "source": [
    "df_data_all, df_labels_all, common_days, region_names = load_all_data_from_file_resampled(\n",
    "    h5_file_path=H5_FILE_PATH, \n",
    "    resampled_days_interval=7,\n",
    "    )"
   ]
  },
  {
   "cell_type": "code",
   "execution_count": null,
   "metadata": {},
   "outputs": [],
   "source": []
  },
  {
   "cell_type": "code",
   "execution_count": 12,
   "metadata": {},
   "outputs": [
    {
     "data": {
      "text/html": [
       "<div>\n",
       "<style scoped>\n",
       "    .dataframe tbody tr th:only-of-type {\n",
       "        vertical-align: middle;\n",
       "    }\n",
       "\n",
       "    .dataframe tbody tr th {\n",
       "        vertical-align: top;\n",
       "    }\n",
       "\n",
       "    .dataframe thead th {\n",
       "        text-align: right;\n",
       "    }\n",
       "</style>\n",
       "<table border=\"1\" class=\"dataframe\">\n",
       "  <thead>\n",
       "    <tr style=\"text-align: right;\">\n",
       "      <th></th>\n",
       "      <th>7</th>\n",
       "      <th>14</th>\n",
       "      <th>21</th>\n",
       "      <th>28</th>\n",
       "      <th>35</th>\n",
       "      <th>42</th>\n",
       "      <th>49</th>\n",
       "      <th>56</th>\n",
       "      <th>63</th>\n",
       "      <th>70</th>\n",
       "      <th>...</th>\n",
       "      <th>301</th>\n",
       "      <th>308</th>\n",
       "      <th>315</th>\n",
       "      <th>322</th>\n",
       "      <th>329</th>\n",
       "      <th>336</th>\n",
       "      <th>343</th>\n",
       "      <th>350</th>\n",
       "      <th>357</th>\n",
       "      <th>364</th>\n",
       "    </tr>\n",
       "  </thead>\n",
       "  <tbody>\n",
       "    <tr>\n",
       "      <th>463</th>\n",
       "      <td>[3871, 3600, 2992, 3105, 3205, 3320, 3321, 348...</td>\n",
       "      <td>[1679, 1241, 845, 742, 805, 866, 945, 854, 399...</td>\n",
       "      <td>[6992, 6542, 5944, 6414, 6786, 6859, 6973, 674...</td>\n",
       "      <td>[1456, 1079, 767, 673, 737, 796, 851, 772, 472...</td>\n",
       "      <td>[1456, 1079, 767, 673, 737, 796, 851, 772, 472...</td>\n",
       "      <td>[1511, 1079, 694, 540, 541, 580, 586, 538, 302...</td>\n",
       "      <td>[1556, 1172, 916, 862, 934, 1056, 1137, 1059, ...</td>\n",
       "      <td>[1968, 1501, 1274, 1269, 1304, 1461, 1601, 142...</td>\n",
       "      <td>[3378, 3184, 2888, 2967, 3079, 3241, 3332, 332...</td>\n",
       "      <td>[1433, 1104, 870, 855, 967, 1139, 1245, 1185, ...</td>\n",
       "      <td>...</td>\n",
       "      <td>[1598, 1252, 998, 944, 1000, 1137, 1244, 1190,...</td>\n",
       "      <td>[1449, 1115, 789, 666, 674, 724, 786, 740, 256...</td>\n",
       "      <td>[1449, 1115, 789, 666, 674, 724, 786, 740, 256...</td>\n",
       "      <td>[3450, 3114, 2883, 3245, 3432, 3793, 4090, 364...</td>\n",
       "      <td>[3450, 3114, 2883, 3245, 3432, 3793, 4090, 364...</td>\n",
       "      <td>[1695, 1244, 889, 708, 763, 913, 966, 912, 343...</td>\n",
       "      <td>[1552, 1127, 692, 473, 442, 437, 421, 370, 159...</td>\n",
       "      <td>[1770, 1294, 898, 732, 802, 954, 1015, 953, 36...</td>\n",
       "      <td>[1770, 1294, 898, 732, 802, 954, 1015, 953, 36...</td>\n",
       "      <td>[1608, 1196, 756, 582, 571, 603, 590, 563, 320...</td>\n",
       "    </tr>\n",
       "    <tr>\n",
       "      <th>464</th>\n",
       "      <td>[2240, 1800, 1329, 1211, 1252, 1340, 1384, 135...</td>\n",
       "      <td>[1706, 1276, 891, 803, 863, 932, 1026, 965, 40...</td>\n",
       "      <td>[6337, 5914, 5299, 5647, 5919, 6005, 6108, 598...</td>\n",
       "      <td>[1463, 1113, 804, 734, 781, 838, 889, 868, 472...</td>\n",
       "      <td>[1463, 1113, 804, 734, 781, 838, 889, 868, 472...</td>\n",
       "      <td>[1680, 1296, 974, 977, 1058, 1167, 1265, 1248,...</td>\n",
       "      <td>[1571, 1212, 959, 933, 1005, 1100, 1177, 1165,...</td>\n",
       "      <td>[2246, 2119, 1796, 1776, 1816, 1945, 2033, 208...</td>\n",
       "      <td>[3276, 3045, 2767, 2836, 2950, 3119, 3227, 320...</td>\n",
       "      <td>[1446, 1159, 929, 942, 1020, 1157, 1283, 1271,...</td>\n",
       "      <td>...</td>\n",
       "      <td>[1633, 1291, 1049, 994, 1063, 1229, 1321, 1281...</td>\n",
       "      <td>[1468, 1113, 788, 656, 680, 750, 802, 734, 275...</td>\n",
       "      <td>[1468, 1113, 788, 656, 680, 750, 802, 734, 275...</td>\n",
       "      <td>[2254, 1874, 1508, 1444, 1453, 1598, 1710, 158...</td>\n",
       "      <td>[2254, 1874, 1508, 1444, 1453, 1598, 1710, 158...</td>\n",
       "      <td>[1713, 1259, 903, 712, 787, 940, 975, 923, 391...</td>\n",
       "      <td>[1586, 1158, 724, 501, 475, 480, 470, 414, 177...</td>\n",
       "      <td>[1780, 1300, 907, 725, 815, 999, 1054, 996, 40...</td>\n",
       "      <td>[1780, 1300, 907, 725, 815, 999, 1054, 996, 40...</td>\n",
       "      <td>[1514, 1095, 667, 475, 471, 491, 483, 453, 232...</td>\n",
       "    </tr>\n",
       "    <tr>\n",
       "      <th>504</th>\n",
       "      <td>[5910, 5689, 5128, 5710, 5977, 6113, 6230, 607...</td>\n",
       "      <td>[1912, 1540, 1220, 1198, 1415, 1731, 1954, 198...</td>\n",
       "      <td>[5602, 5067, 4545, 4936, 5200, 5297, 5378, 505...</td>\n",
       "      <td>[1495, 1196, 949, 1011, 1179, 1441, 1588, 1637...</td>\n",
       "      <td>[1495, 1196, 949, 1011, 1179, 1441, 1588, 1637...</td>\n",
       "      <td>[1691, 1374, 1150, 1330, 1597, 1885, 2085, 220...</td>\n",
       "      <td>[1556, 1267, 1067, 1146, 1356, 1602, 1746, 180...</td>\n",
       "      <td>[2995, 2461, 2233, 2351, 2496, 2662, 2834, 267...</td>\n",
       "      <td>[3381, 3151, 2864, 2948, 3089, 3273, 3373, 334...</td>\n",
       "      <td>[1517, 1338, 1211, 1446, 1689, 2038, 2300, 239...</td>\n",
       "      <td>...</td>\n",
       "      <td>[1480, 1140, 1014, 693, 1105, 2526, 2917, 2817...</td>\n",
       "      <td>[1557, 1225, 1029, 830, 1126, 1583, 1722, 1676...</td>\n",
       "      <td>[1557, 1225, 1029, 830, 1126, 1583, 1722, 1676...</td>\n",
       "      <td>[1607, 1266, 1029, 913, 1117, 1439, 1650, 1631...</td>\n",
       "      <td>[1607, 1266, 1029, 913, 1117, 1439, 1650, 1631...</td>\n",
       "      <td>[1697, 1279, 940, 808, 889, 948, 1058, 954, 44...</td>\n",
       "      <td>[2417, 2532, 2105, 2094, 2171, 2386, 2507, 278...</td>\n",
       "      <td>[1684, 1222, 777, 577, 566, 576, 582, 526, 259...</td>\n",
       "      <td>[1684, 1222, 777, 577, 566, 576, 582, 526, 259...</td>\n",
       "      <td>[3982, 3901, 3152, 3252, 3343, 3377, 3467, 362...</td>\n",
       "    </tr>\n",
       "  </tbody>\n",
       "</table>\n",
       "<p>3 rows × 52 columns</p>\n",
       "</div>"
      ],
      "text/plain": [
       "                                                   7    \\\n",
       "463  [3871, 3600, 2992, 3105, 3205, 3320, 3321, 348...   \n",
       "464  [2240, 1800, 1329, 1211, 1252, 1340, 1384, 135...   \n",
       "504  [5910, 5689, 5128, 5710, 5977, 6113, 6230, 607...   \n",
       "\n",
       "                                                   14   \\\n",
       "463  [1679, 1241, 845, 742, 805, 866, 945, 854, 399...   \n",
       "464  [1706, 1276, 891, 803, 863, 932, 1026, 965, 40...   \n",
       "504  [1912, 1540, 1220, 1198, 1415, 1731, 1954, 198...   \n",
       "\n",
       "                                                   21   \\\n",
       "463  [6992, 6542, 5944, 6414, 6786, 6859, 6973, 674...   \n",
       "464  [6337, 5914, 5299, 5647, 5919, 6005, 6108, 598...   \n",
       "504  [5602, 5067, 4545, 4936, 5200, 5297, 5378, 505...   \n",
       "\n",
       "                                                   28   \\\n",
       "463  [1456, 1079, 767, 673, 737, 796, 851, 772, 472...   \n",
       "464  [1463, 1113, 804, 734, 781, 838, 889, 868, 472...   \n",
       "504  [1495, 1196, 949, 1011, 1179, 1441, 1588, 1637...   \n",
       "\n",
       "                                                   35   \\\n",
       "463  [1456, 1079, 767, 673, 737, 796, 851, 772, 472...   \n",
       "464  [1463, 1113, 804, 734, 781, 838, 889, 868, 472...   \n",
       "504  [1495, 1196, 949, 1011, 1179, 1441, 1588, 1637...   \n",
       "\n",
       "                                                   42   \\\n",
       "463  [1511, 1079, 694, 540, 541, 580, 586, 538, 302...   \n",
       "464  [1680, 1296, 974, 977, 1058, 1167, 1265, 1248,...   \n",
       "504  [1691, 1374, 1150, 1330, 1597, 1885, 2085, 220...   \n",
       "\n",
       "                                                   49   \\\n",
       "463  [1556, 1172, 916, 862, 934, 1056, 1137, 1059, ...   \n",
       "464  [1571, 1212, 959, 933, 1005, 1100, 1177, 1165,...   \n",
       "504  [1556, 1267, 1067, 1146, 1356, 1602, 1746, 180...   \n",
       "\n",
       "                                                   56   \\\n",
       "463  [1968, 1501, 1274, 1269, 1304, 1461, 1601, 142...   \n",
       "464  [2246, 2119, 1796, 1776, 1816, 1945, 2033, 208...   \n",
       "504  [2995, 2461, 2233, 2351, 2496, 2662, 2834, 267...   \n",
       "\n",
       "                                                   63   \\\n",
       "463  [3378, 3184, 2888, 2967, 3079, 3241, 3332, 332...   \n",
       "464  [3276, 3045, 2767, 2836, 2950, 3119, 3227, 320...   \n",
       "504  [3381, 3151, 2864, 2948, 3089, 3273, 3373, 334...   \n",
       "\n",
       "                                                   70   ...  \\\n",
       "463  [1433, 1104, 870, 855, 967, 1139, 1245, 1185, ...  ...   \n",
       "464  [1446, 1159, 929, 942, 1020, 1157, 1283, 1271,...  ...   \n",
       "504  [1517, 1338, 1211, 1446, 1689, 2038, 2300, 239...  ...   \n",
       "\n",
       "                                                   301  \\\n",
       "463  [1598, 1252, 998, 944, 1000, 1137, 1244, 1190,...   \n",
       "464  [1633, 1291, 1049, 994, 1063, 1229, 1321, 1281...   \n",
       "504  [1480, 1140, 1014, 693, 1105, 2526, 2917, 2817...   \n",
       "\n",
       "                                                   308  \\\n",
       "463  [1449, 1115, 789, 666, 674, 724, 786, 740, 256...   \n",
       "464  [1468, 1113, 788, 656, 680, 750, 802, 734, 275...   \n",
       "504  [1557, 1225, 1029, 830, 1126, 1583, 1722, 1676...   \n",
       "\n",
       "                                                   315  \\\n",
       "463  [1449, 1115, 789, 666, 674, 724, 786, 740, 256...   \n",
       "464  [1468, 1113, 788, 656, 680, 750, 802, 734, 275...   \n",
       "504  [1557, 1225, 1029, 830, 1126, 1583, 1722, 1676...   \n",
       "\n",
       "                                                   322  \\\n",
       "463  [3450, 3114, 2883, 3245, 3432, 3793, 4090, 364...   \n",
       "464  [2254, 1874, 1508, 1444, 1453, 1598, 1710, 158...   \n",
       "504  [1607, 1266, 1029, 913, 1117, 1439, 1650, 1631...   \n",
       "\n",
       "                                                   329  \\\n",
       "463  [3450, 3114, 2883, 3245, 3432, 3793, 4090, 364...   \n",
       "464  [2254, 1874, 1508, 1444, 1453, 1598, 1710, 158...   \n",
       "504  [1607, 1266, 1029, 913, 1117, 1439, 1650, 1631...   \n",
       "\n",
       "                                                   336  \\\n",
       "463  [1695, 1244, 889, 708, 763, 913, 966, 912, 343...   \n",
       "464  [1713, 1259, 903, 712, 787, 940, 975, 923, 391...   \n",
       "504  [1697, 1279, 940, 808, 889, 948, 1058, 954, 44...   \n",
       "\n",
       "                                                   343  \\\n",
       "463  [1552, 1127, 692, 473, 442, 437, 421, 370, 159...   \n",
       "464  [1586, 1158, 724, 501, 475, 480, 470, 414, 177...   \n",
       "504  [2417, 2532, 2105, 2094, 2171, 2386, 2507, 278...   \n",
       "\n",
       "                                                   350  \\\n",
       "463  [1770, 1294, 898, 732, 802, 954, 1015, 953, 36...   \n",
       "464  [1780, 1300, 907, 725, 815, 999, 1054, 996, 40...   \n",
       "504  [1684, 1222, 777, 577, 566, 576, 582, 526, 259...   \n",
       "\n",
       "                                                   357  \\\n",
       "463  [1770, 1294, 898, 732, 802, 954, 1015, 953, 36...   \n",
       "464  [1780, 1300, 907, 725, 815, 999, 1054, 996, 40...   \n",
       "504  [1684, 1222, 777, 577, 566, 576, 582, 526, 259...   \n",
       "\n",
       "                                                   364  \n",
       "463  [1608, 1196, 756, 582, 571, 603, 590, 563, 320...  \n",
       "464  [1514, 1095, 667, 475, 471, 491, 483, 453, 232...  \n",
       "504  [3982, 3901, 3152, 3252, 3343, 3377, 3467, 362...  \n",
       "\n",
       "[3 rows x 52 columns]"
      ]
     },
     "execution_count": 12,
     "metadata": {},
     "output_type": "execute_result"
    }
   ],
   "source": [
    "df_data_all.head(3)"
   ]
  },
  {
   "cell_type": "code",
   "execution_count": null,
   "metadata": {},
   "outputs": [],
   "source": []
  },
  {
   "cell_type": "code",
   "execution_count": 13,
   "metadata": {},
   "outputs": [
    {
     "data": {
      "text/plain": [
       "3744779280"
      ]
     },
     "execution_count": 13,
     "metadata": {},
     "output_type": "execute_result"
    }
   ],
   "source": [
    "df_data_all.memory_usage(deep=True).sum()"
   ]
  },
  {
   "cell_type": "code",
   "execution_count": null,
   "metadata": {},
   "outputs": [],
   "source": []
  },
  {
   "cell_type": "code",
   "execution_count": null,
   "metadata": {},
   "outputs": [],
   "source": []
  },
  {
   "cell_type": "markdown",
   "metadata": {},
   "source": [
    "#### Check out the data for one parcel"
   ]
  },
  {
   "cell_type": "code",
   "execution_count": 14,
   "metadata": {},
   "outputs": [],
   "source": [
    "# # Pick the first row\n",
    "# example_row = df_data_all.iloc[0]\n",
    "# parcel_ID = example_row.name\n",
    "\n",
    "# # Get the corresponding label\n",
    "# label_code = df_labels_all.loc[parcel_ID]['crpgrpc']\n",
    "# label_name = df_labels_all.loc[parcel_ID]['crpgrpn']\n",
    "\n",
    "# print('{} grows on parcel {}'.format(label_name, parcel_ID))"
   ]
  },
  {
   "cell_type": "code",
   "execution_count": 15,
   "metadata": {},
   "outputs": [],
   "source": [
    "# example_row_np = example_row.to_numpy()\n",
    "# example_row_np = np.stack(example_row_np, axis=0)\n",
    "\n",
    "# plt.rcParams['figure.figsize'] = [15, 8]\n",
    "# plt.plot(common_days, example_row_np)\n",
    "# # plt.legend(bands)\n",
    "# plt.style.use('_classic_test_patch')\n",
    "# plt.xlabel('day of year')\n",
    "# plt.ylabel('channel value')\n",
    "# plt.title(f'Data for parcel id {parcel_ID}')\n",
    "# plt.grid()"
   ]
  },
  {
   "cell_type": "markdown",
   "metadata": {},
   "source": [
    "#### Load geojson"
   ]
  },
  {
   "cell_type": "code",
   "execution_count": 16,
   "metadata": {},
   "outputs": [
    {
     "name": "stderr",
     "output_type": "stream",
     "text": [
      "100%|██████████| 8/8 [00:14<00:00,  1.81s/it]\n"
     ]
    }
   ],
   "source": [
    "def load_geometry_dict_by_parcelid_all(region_names):\n",
    "    geometry_dict_by_parcelid_all = {}\n",
    "    for region_name in tqdm(region_names):\n",
    "        region_name = region_name.strip('/')\n",
    "        GEO_JSON_FILE_PATH = os.path.join(ROOT_DATA_PATH, f'GeoJSONs_regional_split/train/AT/demo_eurocrops_{region_name}.geojson')    \n",
    "\n",
    "        with open(GEO_JSON_FILE_PATH, 'r') as file:\n",
    "            geojson_data = json.load(file)\n",
    "\n",
    "        geometry_dict_by_parcelid = {feature['properties']['recno']: feature['geometry'] \n",
    "                                     for feature in geojson_data['features']}\n",
    "        geometry_dict_by_parcelid_all.update(geometry_dict_by_parcelid)\n",
    "    return geometry_dict_by_parcelid_all\n",
    "\n",
    "\n",
    "geometry_dict_by_parcelid_all = load_geometry_dict_by_parcelid_all(region_names=region_names)\n"
   ]
  },
  {
   "cell_type": "code",
   "execution_count": null,
   "metadata": {},
   "outputs": [],
   "source": []
  },
  {
   "cell_type": "code",
   "execution_count": null,
   "metadata": {},
   "outputs": [],
   "source": []
  },
  {
   "cell_type": "markdown",
   "metadata": {},
   "source": [
    "#### Check crop types in the current dataset"
   ]
  },
  {
   "cell_type": "code",
   "execution_count": null,
   "metadata": {},
   "outputs": [],
   "source": []
  },
  {
   "cell_type": "code",
   "execution_count": 17,
   "metadata": {},
   "outputs": [
    {
     "name": "stdout",
     "output_type": "stream",
     "text": [
      "Total crop fields: 345970\n"
     ]
    },
    {
     "data": {
      "text/plain": [
       "{'pasture_meadow': 114774,\n",
       " 'others': 38532,\n",
       " 'vineyards': 36165,\n",
       " 'winter_common_wheat_and_spelt': 32455,\n",
       " 'other_plants_harvested_green': 21260,\n",
       " 'grain_maize': 19785,\n",
       " 'winter_triticale': 10353,\n",
       " 'winter_rye': 9449,\n",
       " 'winter_barley': 8863,\n",
       " 'summer_barley': 8856,\n",
       " 'potatoes': 5837,\n",
       " 'summer_oats': 4866,\n",
       " 'winter_rape': 4032,\n",
       " 'leguminous_plants': 3863,\n",
       " 'other_cereals_for_the_production_of_grain': 3757,\n",
       " 'sugar_beet': 3164,\n",
       " 'cucurbits': 3023,\n",
       " 'sunflower_and_yellow_bloomer': 3001,\n",
       " 'soya': 2384,\n",
       " 'fruit_of_temperate_climate_zones': 1870,\n",
       " 'millet': 1330,\n",
       " 'aromatic_plants_medicinal_and_culinary_plants': 1224,\n",
       " 'other_industrial_crops_not_mentioned_elsewhere': 1207,\n",
       " 'fresh_vegetables_melons_and_strawberries': 1070,\n",
       " 'not_known': 1070,\n",
       " 'winter_durum_wheat': 525,\n",
       " 'summer_durum_wheat': 435,\n",
       " 'summer_common_wheat_and_spelt': 434,\n",
       " 'hemp': 281,\n",
       " 'other_dry_pulses': 266,\n",
       " 'greenhouse_under foil': 260,\n",
       " 'other_oil_seed_crops': 247,\n",
       " 'fallow_land_not_crop': 237,\n",
       " 'arable_land_seed_and_seedlings': 213,\n",
       " 'energy_crops': 148,\n",
       " 'nuts': 146,\n",
       " 'temporary_grass': 141,\n",
       " 'summer_triticale': 131,\n",
       " 'nurseries': 86,\n",
       " 'berry_species': 82,\n",
       " 'flowers_and_ornamental_plants': 56,\n",
       " 'fodder_roots_and_brassicas': 45,\n",
       " 'winter_oats': 36,\n",
       " 'hops': 11}"
      ]
     },
     "execution_count": 17,
     "metadata": {},
     "output_type": "execute_result"
    }
   ],
   "source": [
    "def get_crop_types_counts_and_ids(df_data_all, df_labels_all):\n",
    "    crop_types_counts = {}\n",
    "    crop_types_ids = {}\n",
    "\n",
    "    regions_id_set = set(df_data_all.index)\n",
    "    \n",
    "    for i, region_id in enumerate(df_labels_all.index):\n",
    "        if region_id not in regions_id_set:\n",
    "            continue\n",
    "\n",
    "        crop_name = df_labels_all.iloc[i]['crpgrpn']\n",
    "        current_count = crop_types_counts.get(crop_name, 0) \n",
    "        crop_types_counts[crop_name] = current_count + 1\n",
    "\n",
    "        if crop_name not in crop_types_ids:\n",
    "            crop_types_ids[crop_name] = []\n",
    "        crop_types_ids[crop_name].append(region_id)\n",
    "    \n",
    "    return crop_types_counts, crop_types_ids\n",
    "\n",
    "\n",
    "        \n",
    "crop_types_counts, crop_types_ids = get_crop_types_counts_and_ids(df_data_all=df_data_all, df_labels_all=df_labels_all)\n",
    "\n",
    "print(f'Total crop fields: {sum(crop_types_counts.values())}')\n",
    "crop_types_counts = {k: v for k, v in sorted(crop_types_counts.items(), key=lambda item: -item[1])}\n",
    "crop_types_counts"
   ]
  },
  {
   "cell_type": "code",
   "execution_count": null,
   "metadata": {},
   "outputs": [],
   "source": []
  },
  {
   "cell_type": "code",
   "execution_count": 18,
   "metadata": {},
   "outputs": [
    {
     "data": {
      "text/plain": [
       "(345970, 345970, 352037)"
      ]
     },
     "execution_count": 18,
     "metadata": {},
     "output_type": "execute_result"
    }
   ],
   "source": [
    "len(df_labels_all), len(df_data_all), len(geometry_dict_by_parcelid_all)"
   ]
  },
  {
   "cell_type": "code",
   "execution_count": null,
   "metadata": {},
   "outputs": [],
   "source": []
  },
  {
   "cell_type": "code",
   "execution_count": null,
   "metadata": {},
   "outputs": [],
   "source": []
  },
  {
   "cell_type": "code",
   "execution_count": 19,
   "metadata": {},
   "outputs": [],
   "source": [
    "def get_data_for_crop_type(crop_name):\n",
    "    data = np.zeros(shape=(len(crop_types_ids[crop_name]), len(common_days), NUMBER_OF_CHANNELS), dtype=float)\n",
    "    for i, region_id in enumerate(crop_types_ids[crop_name]):\n",
    "        region_data = df_data_all.loc[region_id].to_numpy()\n",
    "        data[i, ...] = np.stack(region_data)\n",
    "    return data\n"
   ]
  },
  {
   "cell_type": "code",
   "execution_count": 20,
   "metadata": {},
   "outputs": [],
   "source": [
    "# @dataclass\n",
    "# class CropNdviData:\n",
    "#     mean: np.ndarray\n",
    "#     std: np.ndarray\n",
    "\n",
    "        \n",
    "def calc_ndvi(B4, B8):\n",
    "    return (B8 - B4) / (B8 + B4)\n",
    "        \n",
    "    \n",
    "# def get_ndvi_data(data_crop) -> CropNdviData:\n",
    "#     \"\"\"\n",
    "#     data_crop: [fields (for the crop), time (common_days), channels (bands B0-B12)]')\n",
    "#     return: mean and std for ndvi \"channel\"\n",
    "#     \"\"\"\n",
    "    \n",
    "#     # B8-B4 / (B8+B4)   ( counting from B1 to B13)\n",
    "#     B4 = data_crop[:, :, 4-1]\n",
    "#     B8 = data_crop[:, :, 8-1]\n",
    "\n",
    "#     data_crop_ndvi = calc_ndvi(B4, B8)\n",
    "#     data_crop_mean_ndvi = np.mean(data_crop_ndvi, axis=0)\n",
    "#     data_crop_std_ndvi = np.std(data_crop_ndvi, axis=0) \n",
    "    \n",
    "#     return CropNdviData(mean=data_crop_mean_ndvi, std=data_crop_std_ndvi)\n",
    "    "
   ]
  },
  {
   "cell_type": "code",
   "execution_count": null,
   "metadata": {},
   "outputs": [],
   "source": [
    "\n"
   ]
  },
  {
   "cell_type": "code",
   "execution_count": null,
   "metadata": {},
   "outputs": [],
   "source": []
  },
  {
   "cell_type": "code",
   "execution_count": null,
   "metadata": {},
   "outputs": [],
   "source": []
  },
  {
   "cell_type": "markdown",
   "metadata": {},
   "source": [
    "#### Flatten the data and labels"
   ]
  },
  {
   "cell_type": "code",
   "execution_count": 21,
   "metadata": {},
   "outputs": [],
   "source": [
    "data_flatten_list = []  \n",
    "data_flatten_ndvi_list = []\n",
    "\n",
    "\n",
    "for index, row in df_data_all.iterrows():\n",
    "    region_data = row.to_numpy()\n",
    "    region_data_stacked = np.stack(region_data)\n",
    "    region_data_stacked_flat = region_data_stacked.flatten('F')  # so the first channel through time is continous\n",
    "    data_flatten_list.append(region_data_stacked_flat)\n",
    "\n",
    "    B4 = region_data_stacked[:, 4-1]\n",
    "    B8 = region_data_stacked[:, 8-1]\n",
    "    region_data_ndvi = calc_ndvi(B4, B8)\n",
    "    data_flatten_ndvi_list.append(region_data_ndvi)\n",
    "    \n",
    "data_flatten = np.stack(data_flatten_list)\n",
    "data_ndvi_flatten = np.stack(data_flatten_ndvi_list)"
   ]
  },
  {
   "cell_type": "code",
   "execution_count": 22,
   "metadata": {},
   "outputs": [
    {
     "data": {
      "text/plain": [
       "((345970, 676), (345970, 52))"
      ]
     },
     "execution_count": 22,
     "metadata": {},
     "output_type": "execute_result"
    }
   ],
   "source": [
    "data_flatten.shape, data_ndvi_flatten.shape"
   ]
  },
  {
   "cell_type": "code",
   "execution_count": 23,
   "metadata": {},
   "outputs": [
    {
     "data": {
      "text/html": [
       "<div>\n",
       "<style scoped>\n",
       "    .dataframe tbody tr th:only-of-type {\n",
       "        vertical-align: middle;\n",
       "    }\n",
       "\n",
       "    .dataframe tbody tr th {\n",
       "        vertical-align: top;\n",
       "    }\n",
       "\n",
       "    .dataframe thead th {\n",
       "        text-align: right;\n",
       "    }\n",
       "</style>\n",
       "<table border=\"1\" class=\"dataframe\">\n",
       "  <thead>\n",
       "    <tr style=\"text-align: right;\">\n",
       "      <th></th>\n",
       "      <th>crpgrpc</th>\n",
       "      <th>crpgrpn</th>\n",
       "    </tr>\n",
       "    <tr>\n",
       "      <th>recno</th>\n",
       "      <th></th>\n",
       "      <th></th>\n",
       "    </tr>\n",
       "  </thead>\n",
       "  <tbody>\n",
       "    <tr>\n",
       "      <th>463</th>\n",
       "      <td>33111022</td>\n",
       "      <td>leguminous_plants</td>\n",
       "    </tr>\n",
       "    <tr>\n",
       "      <th>464</th>\n",
       "      <td>33111022</td>\n",
       "      <td>leguminous_plants</td>\n",
       "    </tr>\n",
       "    <tr>\n",
       "      <th>504</th>\n",
       "      <td>33111022</td>\n",
       "      <td>leguminous_plants</td>\n",
       "    </tr>\n",
       "    <tr>\n",
       "      <th>577</th>\n",
       "      <td>33111022</td>\n",
       "      <td>leguminous_plants</td>\n",
       "    </tr>\n",
       "    <tr>\n",
       "      <th>578</th>\n",
       "      <td>33111022</td>\n",
       "      <td>leguminous_plants</td>\n",
       "    </tr>\n",
       "    <tr>\n",
       "      <th>...</th>\n",
       "      <td>...</td>\n",
       "      <td>...</td>\n",
       "    </tr>\n",
       "    <tr>\n",
       "      <th>363647</th>\n",
       "      <td>33200000</td>\n",
       "      <td>pasture_meadow</td>\n",
       "    </tr>\n",
       "    <tr>\n",
       "      <th>363648</th>\n",
       "      <td>33200000</td>\n",
       "      <td>pasture_meadow</td>\n",
       "    </tr>\n",
       "    <tr>\n",
       "      <th>363676</th>\n",
       "      <td>33200000</td>\n",
       "      <td>pasture_meadow</td>\n",
       "    </tr>\n",
       "    <tr>\n",
       "      <th>365219</th>\n",
       "      <td>33200000</td>\n",
       "      <td>pasture_meadow</td>\n",
       "    </tr>\n",
       "    <tr>\n",
       "      <th>652094</th>\n",
       "      <td>33200000</td>\n",
       "      <td>pasture_meadow</td>\n",
       "    </tr>\n",
       "  </tbody>\n",
       "</table>\n",
       "<p>345970 rows × 2 columns</p>\n",
       "</div>"
      ],
      "text/plain": [
       "         crpgrpc            crpgrpn\n",
       "recno                              \n",
       "463     33111022  leguminous_plants\n",
       "464     33111022  leguminous_plants\n",
       "504     33111022  leguminous_plants\n",
       "577     33111022  leguminous_plants\n",
       "578     33111022  leguminous_plants\n",
       "...          ...                ...\n",
       "363647  33200000     pasture_meadow\n",
       "363648  33200000     pasture_meadow\n",
       "363676  33200000     pasture_meadow\n",
       "365219  33200000     pasture_meadow\n",
       "652094  33200000     pasture_meadow\n",
       "\n",
       "[345970 rows x 2 columns]"
      ]
     },
     "execution_count": 23,
     "metadata": {},
     "output_type": "execute_result"
    }
   ],
   "source": [
    "df_labels_all"
   ]
  },
  {
   "cell_type": "code",
   "execution_count": 24,
   "metadata": {},
   "outputs": [
    {
     "name": "stdout",
     "output_type": "stream",
     "text": [
      "{'winter_triticale', 'hops', 'arable_land_seed_and_seedlings', 'vineyards', 'other_oil_seed_crops', 'leguminous_plants', 'summer_triticale', 'energy_crops', 'fresh_vegetables_melons_and_strawberries', 'summer_barley', 'other_industrial_crops_not_mentioned_elsewhere', 'cucurbits', 'sunflower_and_yellow_bloomer', 'greenhouse_under foil', 'other_plants_harvested_green', 'sugar_beet', 'grain_maize', 'summer_oats', 'potatoes', 'winter_rape', 'temporary_grass', 'fruit_of_temperate_climate_zones', 'winter_rye', 'aromatic_plants_medicinal_and_culinary_plants', 'winter_durum_wheat', 'summer_durum_wheat', 'nurseries', 'other_cereals_for_the_production_of_grain', 'fodder_roots_and_brassicas', 'winter_oats', 'not_known', 'pasture_meadow', 'berry_species', 'nuts', 'summer_common_wheat_and_spelt', 'hemp', 'fallow_land_not_crop', 'winter_barley', 'flowers_and_ornamental_plants', 'winter_common_wheat_and_spelt', 'others', 'other_dry_pulses', 'millet', 'soya'}\n"
     ]
    }
   ],
   "source": [
    "all_crop_types = set(df_labels_all.iloc[:, 1].to_numpy())\n",
    "data_flatten_labels = df_labels_all.iloc[:, 1].to_numpy()\n",
    "print(set(data_flatten_labels))"
   ]
  },
  {
   "cell_type": "code",
   "execution_count": null,
   "metadata": {},
   "outputs": [],
   "source": []
  },
  {
   "cell_type": "markdown",
   "metadata": {},
   "source": [
    "### Select data for processing\n",
    "\n",
    "#### choose crop types"
   ]
  },
  {
   "cell_type": "code",
   "execution_count": 25,
   "metadata": {},
   "outputs": [],
   "source": [
    "\n",
    "# crops_to_use__names = [\n",
    "#     #'pasture_meadow',\n",
    "#     'grain_maize',\n",
    "#     #'winter_common_wheat_and_spelt',\n",
    "#     #'other_plants_harvested_green',\n",
    "#     'winter_barley',\n",
    "#     'vineyards',\n",
    "#     'soya',\n",
    "#     'sugar_beet',\n",
    "#     'winter_triticale',\n",
    "#     'winter_rye',\n",
    "#     'leguminous_plants',\n",
    "#     'sunflower_and_yellow_bloomer',\n",
    "#     #'other_cereals_for_the_production_of_grain',\n",
    "#     'millet',\n",
    "#     'winter_rape',\n",
    "#     #'fresh_vegetables_melons_and_strawberries',\n",
    "#     'summer_barley',\n",
    "#     #'fruit_of_temperate_climate_zones',\n",
    "#     'potatoes',\n",
    "#     'summer_oats',\n",
    "#     'cucurbits',\n",
    "#     #'other_dry_pulses',\n",
    "#     'summer_durum_wheat',\n",
    "#     #'arable_land_seed_and_seedlings',\n",
    "#     'winter_durum_wheat',\n",
    "#     #'aromatic_plants_medicinal_and_culinary_plants',\n",
    "#     #'energy_crops',\n",
    "#     #'summer_common_wheat_and_spelt',\n",
    "#     #'temporary_grass',\n",
    "#     #'other_oil_seed_crops',\n",
    "#     'hemp',\n",
    "#     'nuts',\n",
    "#     #'flowers_and_ornamental_plants',\n",
    "#     #'berry_species',\n",
    "#     #'nurseries',\n",
    "# ]\n",
    "crops_to_use__names = [ \n",
    "#     'sunflower_and_yellow_bloomer',\n",
    "#     #'nuts',\n",
    "#     'soya',\n",
    "#     'vineyards',\n",
    "#     'potatoes',\n",
    "#     'summer_barley',\n",
    "    \n",
    "#     'cucurbits',\n",
    "#     'sugar_beet',\n",
    "#     'millet',\n",
    "#     'grain_maize',\n",
    "    \n",
    "    'vineyards',\n",
    "    'sunflower_and_yellow_bloomer',\n",
    "    #'nuts',\n",
    "    'sugar_beet',\n",
    "    'nuts',\n",
    "    'hemp',\n",
    "    'summer_durum_wheat',\n",
    "    'hops',\n",
    "    \n",
    "    \n",
    "]\n",
    "\n",
    "assert(len(crops_to_use__names) == len(set(crops_to_use__names)))"
   ]
  },
  {
   "cell_type": "code",
   "execution_count": null,
   "metadata": {},
   "outputs": [],
   "source": []
  },
  {
   "cell_type": "code",
   "execution_count": 26,
   "metadata": {},
   "outputs": [
    {
     "data": {
      "text/plain": [
       "7"
      ]
     },
     "execution_count": 26,
     "metadata": {},
     "output_type": "execute_result"
    }
   ],
   "source": [
    "indexes_to_use = []\n",
    "for i in range(len(df_labels_all)):\n",
    "    label = data_flatten_labels[i]\n",
    "    if label not in crops_to_use__names:\n",
    "        continue  # skip this data, not interested\n",
    "    indexes_to_use.append(i)\n",
    "# indexes_to_use = np.array(indexes_to_use)\n",
    "\n",
    "selected_data_flatten_labels = np.take(data_flatten_labels, indexes_to_use)\n",
    "selected_data_flatten = data_flatten[indexes_to_use, :]\n",
    "selected_data_ndvi_flatten = data_ndvi_flatten[indexes_to_use, :]\n",
    "len(set(selected_data_flatten_labels))"
   ]
  },
  {
   "cell_type": "code",
   "execution_count": 27,
   "metadata": {},
   "outputs": [
    {
     "data": {
      "text/plain": [
       "((43203,), (43203, 676), (43203, 52))"
      ]
     },
     "execution_count": 27,
     "metadata": {},
     "output_type": "execute_result"
    }
   ],
   "source": [
    "selected_data_flatten_labels.shape, selected_data_flatten.shape, selected_data_ndvi_flatten.shape"
   ]
  },
  {
   "cell_type": "code",
   "execution_count": 28,
   "metadata": {},
   "outputs": [
    {
     "data": {
      "text/plain": [
       "array(['nuts', 'nuts', 'nuts', ..., 'sugar_beet', 'sugar_beet',\n",
       "       'sugar_beet'], dtype=object)"
      ]
     },
     "execution_count": 28,
     "metadata": {},
     "output_type": "execute_result"
    }
   ],
   "source": [
    "selected_data_flatten_labels"
   ]
  },
  {
   "cell_type": "code",
   "execution_count": null,
   "metadata": {},
   "outputs": [],
   "source": []
  },
  {
   "cell_type": "code",
   "execution_count": 29,
   "metadata": {},
   "outputs": [
    {
     "data": {
      "text/plain": [
       "(3, 52)"
      ]
     },
     "execution_count": 29,
     "metadata": {},
     "output_type": "execute_result"
    }
   ],
   "source": [
    "data_ndvi_flatten[[1,2,3,], :].shape"
   ]
  },
  {
   "cell_type": "markdown",
   "metadata": {},
   "source": [
    "#### Remap output classes to consecutive values\n"
   ]
  },
  {
   "cell_type": "code",
   "execution_count": 30,
   "metadata": {},
   "outputs": [],
   "source": [
    "\n",
    "selected_data_flatten_labels_mapping = {value: i for i, value in enumerate(crops_to_use__names)}\n",
    "\n",
    "selected_data_flatten_labels_mapped = np.full(shape=selected_data_flatten_labels.shape, fill_value=1, dtype=int)\n",
    "for i in range(len(selected_data_flatten_labels_mapped)):\n",
    "    selected_data_flatten_labels_mapped[i] = selected_data_flatten_labels_mapping[selected_data_flatten_labels[i]]"
   ]
  },
  {
   "cell_type": "code",
   "execution_count": 31,
   "metadata": {},
   "outputs": [
    {
     "data": {
      "text/plain": [
       "{'vineyards': 0,\n",
       " 'sunflower_and_yellow_bloomer': 1,\n",
       " 'sugar_beet': 2,\n",
       " 'nuts': 3,\n",
       " 'hemp': 4,\n",
       " 'summer_durum_wheat': 5,\n",
       " 'hops': 6}"
      ]
     },
     "execution_count": 31,
     "metadata": {},
     "output_type": "execute_result"
    }
   ],
   "source": [
    "selected_data_flatten_labels_mapping"
   ]
  },
  {
   "cell_type": "code",
   "execution_count": 32,
   "metadata": {},
   "outputs": [
    {
     "data": {
      "text/plain": [
       "7"
      ]
     },
     "execution_count": 32,
     "metadata": {},
     "output_type": "execute_result"
    }
   ],
   "source": [
    "len(set(selected_data_flatten_labels_mapped))"
   ]
  },
  {
   "cell_type": "markdown",
   "metadata": {},
   "source": [
    "#### Determine the data type to use (for further processing)\n",
    "And split dataset"
   ]
  },
  {
   "cell_type": "code",
   "execution_count": 33,
   "metadata": {},
   "outputs": [
    {
     "data": {
      "text/plain": [
       "(34562, 4320, 4321)"
      ]
     },
     "execution_count": 33,
     "metadata": {},
     "output_type": "execute_result"
    }
   ],
   "source": [
    "x = selected_data_ndvi_flatten\n",
    "\n",
    "y = selected_data_flatten_labels_mapped\n",
    "# print(len(x))\n",
    "NUMBER_OF_CLASSES = len(set(y))\n",
    "\n",
    "\n",
    "def unison_shuffled_copies(a, b):\n",
    "    assert len(a) == len(b)\n",
    "    p = np.random.permutation(len(a))\n",
    "    return a[p], b[p]\n",
    "\n",
    "n1, n2 = int(len(y) * 0.8), int(len(y) * 0.9)\n",
    "x_shuffled, y_shuffled = unison_shuffled_copies(x, y)\n",
    "x_train, x_valid, x_test = x_shuffled[:n1], x_shuffled[n1:n2], x_shuffled[n2:]\n",
    "y_train, y_valid, y_test = y_shuffled[:n1], y_shuffled[n1:n2], y_shuffled[n2:]\n",
    "\n",
    "\n",
    "len(x_train), len(x_valid), len(x_test)"
   ]
  },
  {
   "cell_type": "code",
   "execution_count": 57,
   "metadata": {},
   "outputs": [
    {
     "name": "stdout",
     "output_type": "stream",
     "text": [
      "random_guess_accuraccy = 0.837\n"
     ]
    },
    {
     "data": {
      "text/plain": [
       "array([3618,  312,  302,   21,   28,   38,    2])"
      ]
     },
     "execution_count": 57,
     "metadata": {},
     "output_type": "execute_result"
    }
   ],
   "source": [
    "# classes distribution\n",
    "\n",
    "_, counts = np.unique(y_test, return_counts=True)\n",
    "random_guess_accuraccy = max(counts) / sum(counts)\n",
    "\n",
    "print(f'{random_guess_accuraccy = :.3f}')\n",
    "counts"
   ]
  },
  {
   "cell_type": "markdown",
   "metadata": {},
   "source": [
    "## Data processing"
   ]
  },
  {
   "cell_type": "markdown",
   "metadata": {},
   "source": [
    "### t-SNE"
   ]
  },
  {
   "cell_type": "code",
   "execution_count": 34,
   "metadata": {},
   "outputs": [],
   "source": [
    "PLOT_TSNE_NDVI = False\n",
    "\n",
    "\n",
    "if PLOT_TSNE_NDVI:\n",
    "    import seaborn as sns\n",
    "    from sklearn.manifold import TSNE\n",
    "\n",
    "    tsne = TSNE(n_components=2, verbose=1, random_state=123)\n",
    "    z = tsne.fit_transform(x)\n",
    "\n",
    "    df = pd.DataFrame()\n",
    "    df[\"y\"] = selected_data_flatten_labels\n",
    "    df[\"comp-1\"] = z[:, 0]\n",
    "    df[\"comp-2\"] = z[:, 1]\n",
    "\n",
    "    sns.scatterplot(x=\"comp-1\", y=\"comp-2\", hue=df.y.tolist(),\n",
    "                    palette=sns.color_palette(\"hls\", len(set(selected_data_flatten_labels))),\n",
    "                    data=df).set(title=\"selected_data_flatten_labels crops\")"
   ]
  },
  {
   "cell_type": "code",
   "execution_count": 35,
   "metadata": {},
   "outputs": [],
   "source": [
    "if PLOT_TSNE_NDVI:\n",
    "    import seaborn as sns\n",
    "    from sklearn.manifold import TSNE\n",
    "\n",
    "    tsne = TSNE(n_components=3, verbose=1, random_state=123)\n",
    "    z = tsne.fit_transform(x)\n",
    "\n",
    "\n",
    "    fig = plt.figure(figsize=(3, 3))\n",
    "    ax = fig.add_subplot(projection='3d')\n",
    "    ax.scatter(z[:, 0], z[:, 1], z[:, 2])\n"
   ]
  },
  {
   "cell_type": "code",
   "execution_count": 36,
   "metadata": {},
   "outputs": [],
   "source": [
    "if PLOT_TSNE_NDVI:\n",
    "    fig = px.scatter_3d(\n",
    "        z, x=0, y=1, z=2,\n",
    "        color=y, labels={'color': 'species'}\n",
    "    )\n",
    "    fig.update_traces(marker_size=8)\n",
    "    fig.show()"
   ]
  },
  {
   "cell_type": "code",
   "execution_count": null,
   "metadata": {},
   "outputs": [],
   "source": []
  },
  {
   "cell_type": "markdown",
   "metadata": {},
   "source": [
    "### SVM"
   ]
  },
  {
   "cell_type": "code",
   "execution_count": 39,
   "metadata": {},
   "outputs": [
    {
     "data": {
      "text/plain": [
       "(4257, 4321)"
      ]
     },
     "execution_count": 39,
     "metadata": {},
     "output_type": "execute_result"
    }
   ],
   "source": [
    "from sklearn import svm\n",
    "\n",
    "clf = svm.SVC()\n",
    "clf.fit(x_train, y_train)\n",
    "\n",
    "y_predicted = clf.predict(x_test)\n",
    "\n",
    "predicted_correctly = np.count_nonzero(y_predicted == y_test)\n",
    "predicted_correctly, len(y_predicted)"
   ]
  },
  {
   "cell_type": "code",
   "execution_count": null,
   "metadata": {},
   "outputs": [],
   "source": []
  },
  {
   "cell_type": "code",
   "execution_count": 40,
   "metadata": {},
   "outputs": [
    {
     "data": {
      "text/plain": [
       "7"
      ]
     },
     "execution_count": 40,
     "metadata": {},
     "output_type": "execute_result"
    }
   ],
   "source": [
    "len(set(y_predicted))"
   ]
  },
  {
   "cell_type": "code",
   "execution_count": null,
   "metadata": {},
   "outputs": [],
   "source": []
  },
  {
   "cell_type": "code",
   "execution_count": 41,
   "metadata": {},
   "outputs": [
    {
     "name": "stdout",
     "output_type": "stream",
     "text": [
      "svm_ndvi_kappa=0.909, accuraccy=0.985\n",
      "svm_ndvi_kappa=0.909, accuraccy=0.985\n"
     ]
    },
    {
     "data": {
      "image/png": "[encoded data removed]",
      "text/plain": [
       "<Figure size 1080x576 with 2 Axes>"
      ]
     },
     "metadata": {
      "needs_background": "light"
     },
     "output_type": "display_data"
    },
    {
     "data": {
      "image/png": "[encoded data removed]",
      "text/plain": [
       "<Figure size 1080x576 with 2 Axes>"
      ]
     },
     "metadata": {
      "needs_background": "light"
     },
     "output_type": "display_data"
    }
   ],
   "source": [
    "def draw_prediction_matrix_for_test_data(y_predicted_labels, y_test_labels, normalize='true'):\n",
    "    svm_ndvi_confusion_matrix = sklearn.metrics.confusion_matrix(y_true=y_test_labels, y_pred=y_predicted_labels, \n",
    "                                                                 normalize=normalize)\n",
    "    disp = sklearn.metrics.ConfusionMatrixDisplay(svm_ndvi_confusion_matrix, display_labels=crops_to_use__names)\n",
    "    disp.plot()\n",
    "    \n",
    "    \n",
    "    predicted_correctly = np.count_nonzero(y_predicted_labels == y_test_labels)\n",
    "\n",
    "    accuraccy = predicted_correctly / len(y_test_labels)\n",
    "\n",
    "    # https://en.wikipedia.org/wiki/Cohen%27s_kappa\n",
    "    kappa = 1 - (1 - accuraccy) / (1 - random_guess_accuraccy)\n",
    "\n",
    "    print(f'svm_ndvi_kappa={kappa:.3f}, accuraccy={accuraccy:.3f}')\n",
    "    \n",
    "\n",
    "draw_prediction_matrix_for_test_data(y_predicted, y_test)\n",
    "draw_prediction_matrix_for_test_data(y_predicted, y_test, normalize=None)"
   ]
  },
  {
   "cell_type": "code",
   "execution_count": null,
   "metadata": {},
   "outputs": [],
   "source": []
  },
  {
   "cell_type": "markdown",
   "metadata": {},
   "source": [
    "### NN linear"
   ]
  },
  {
   "cell_type": "code",
   "execution_count": 42,
   "metadata": {},
   "outputs": [
    {
     "name": "stdout",
     "output_type": "stream",
     "text": [
      "NUMBER_OF_INPUTS = 52, NUMBER_OF_CLASSES=7\n"
     ]
    }
   ],
   "source": [
    "NUMBER_OF_INPUTS = x[0].shape[0]\n",
    "print(f'NUMBER_OF_INPUTS = {NUMBER_OF_INPUTS}, NUMBER_OF_CLASSES={NUMBER_OF_CLASSES}')\n"
   ]
  },
  {
   "cell_type": "code",
   "execution_count": 43,
   "metadata": {},
   "outputs": [],
   "source": [
    "model = nn.Sequential(\n",
    "    nn.Linear(in_features=NUMBER_OF_INPUTS, out_features=200),\n",
    "    nn.BatchNorm1d(num_features=200),  # batchnorm before activation\n",
    "    nn.ReLU(),\n",
    "\n",
    "    nn.Linear(in_features=200, out_features=100),\n",
    "    nn.BatchNorm1d(num_features=100),\n",
    "    nn.ReLU(),\n",
    "\n",
    "    nn.Linear(in_features=100, out_features=50),\n",
    "    nn.BatchNorm1d(num_features=50),\n",
    "    nn.ReLU(),\n",
    "\n",
    "    #nn.Dropout(0.1),\n",
    "    nn.Linear(in_features=50, out_features=NUMBER_OF_CLASSES),\n",
    "    nn.Softmax(dim=-1),  # not 0!\n",
    ")"
   ]
  },
  {
   "cell_type": "code",
   "execution_count": 44,
   "metadata": {},
   "outputs": [
    {
     "data": {
      "text/plain": [
       "((34562, 52), (34562,))"
      ]
     },
     "execution_count": 44,
     "metadata": {},
     "output_type": "execute_result"
    }
   ],
   "source": [
    "x_train.shape, y_train.shape"
   ]
  },
  {
   "cell_type": "code",
   "execution_count": 45,
   "metadata": {},
   "outputs": [
    {
     "data": {
      "text/plain": [
       "array([ 0.01464766,  0.07883282,  0.10950019,  0.10950019,  0.1104263 ,\n",
       "        0.12547819,  0.11417889,  0.07294706,  0.13834423,  0.060693  ,\n",
       "        0.13327745,  0.13327745,  0.15903549,  0.03141185,  0.18272236,\n",
       "        0.17137476,  0.09794412,  0.09794412,  0.09794412,  0.22409752,\n",
       "        0.22409752,  0.25460038,  0.25460038,  0.41645772,  0.63205829,\n",
       "        0.68445975,  0.14804134,  0.35009823,  0.68501196,  0.69392574,\n",
       "        0.67047841,  0.02818043,  0.61354962,  0.37541825,  0.44110855,\n",
       "        0.26840102,  0.3220339 ,  0.20814183,  0.20814183,  0.06898907,\n",
       "       -0.01383064,  0.00824253,  0.00824253,  0.12047013,  0.12047013,\n",
       "        0.10974674,  0.10974674,  0.00886162,  0.00886162,  0.00886162,\n",
       "        0.155521  ,  0.155521  ])"
      ]
     },
     "execution_count": 45,
     "metadata": {},
     "output_type": "execute_result"
    }
   ],
   "source": [
    "x_train[0]"
   ]
  },
  {
   "cell_type": "code",
   "execution_count": 46,
   "metadata": {},
   "outputs": [
    {
     "data": {
      "text/plain": [
       "tensor([[0.0688, 0.2547, 0.0449, 0.1257, 0.1366, 0.2587, 0.1107],\n",
       "        [0.1681, 0.1591, 0.1061, 0.2009, 0.0884, 0.1172, 0.1601]])"
      ]
     },
     "execution_count": 46,
     "metadata": {},
     "output_type": "execute_result"
    }
   ],
   "source": [
    "with torch.no_grad():\n",
    "    o = model(torch.Tensor(x_train[0:2]))\n",
    "o"
   ]
  },
  {
   "cell_type": "code",
   "execution_count": 47,
   "metadata": {},
   "outputs": [
    {
     "data": {
      "text/plain": [
       "1.9999999"
      ]
     },
     "execution_count": 47,
     "metadata": {},
     "output_type": "execute_result"
    }
   ],
   "source": [
    "np.sum(o.numpy())"
   ]
  },
  {
   "cell_type": "code",
   "execution_count": 48,
   "metadata": {},
   "outputs": [
    {
     "data": {
      "text/plain": [
       "torch.Size([64, 52])"
      ]
     },
     "execution_count": 48,
     "metadata": {},
     "output_type": "execute_result"
    }
   ],
   "source": [
    "class CropDataset(torch.utils.data.Dataset):\n",
    "    def __init__(self, x, y):\n",
    "        self.x = x\n",
    "        self.y = y\n",
    "        assert len(x) == len(y)\n",
    "    \n",
    "    def __len__(self):\n",
    "        return len(self.x)\n",
    "\n",
    "    def __getitem__(self, idx):\n",
    "        if torch.is_tensor(idx):\n",
    "            raise Exception(\"Not supported\")\n",
    "        return self.x[idx].astype(np.float32), self.y[idx]\n",
    "\n",
    "\n",
    "batch_size = 64\n",
    "trainloader = torch.utils.data.DataLoader(CropDataset(x_train, y_train), batch_size=batch_size, shuffle=True)\n",
    "validloader = torch.utils.data.DataLoader(CropDataset(x_valid, y_valid), batch_size=batch_size, shuffle=True)\n",
    "testloader = torch.utils.data.DataLoader(CropDataset(x_test, y_test), batch_size=batch_size, shuffle=True)\n",
    "\n",
    "next(iter(trainloader))[0].shape"
   ]
  },
  {
   "cell_type": "code",
   "execution_count": 49,
   "metadata": {},
   "outputs": [
    {
     "data": {
      "text/plain": [
       "64"
      ]
     },
     "execution_count": 49,
     "metadata": {},
     "output_type": "execute_result"
    }
   ],
   "source": [
    "trainloader.batch_size"
   ]
  },
  {
   "cell_type": "code",
   "execution_count": 50,
   "metadata": {},
   "outputs": [],
   "source": [
    "def get_predicted_and_true_labels(loader):\n",
    "    y_predicted_labels = []\n",
    "    y_test_labels = []\n",
    "\n",
    "    with torch.no_grad():\n",
    "        model.train(False)\n",
    "        for data in loader:\n",
    "            inputs, labels = data\n",
    "            # calculate outputs by running images through the network\n",
    "            outputs = model(inputs)\n",
    "            label_predicted = np.argmax(outputs.numpy(), axis=1)\n",
    "            y_predicted_labels.append(label_predicted)\n",
    "            y_test_labels.append(labels)\n",
    "\n",
    "\n",
    "    y_test_labels = np.concatenate(y_test_labels)\n",
    "    y_predicted_labels = np.concatenate(y_predicted_labels)\n",
    "\n",
    "    predicted_correctly = np.count_nonzero(y_predicted_labels == y_test_labels)\n",
    "    accuraccy = predicted_correctly / len(y_test_labels)\n",
    "    print(f'{accuraccy = :.3f}')\n",
    "    return y_predicted_labels, y_test_labels\n"
   ]
  },
  {
   "cell_type": "code",
   "execution_count": 51,
   "metadata": {},
   "outputs": [],
   "source": [
    "train_loss_vec = []\n",
    "valid_loss_vec = []"
   ]
  },
  {
   "cell_type": "code",
   "execution_count": 52,
   "metadata": {
    "scrolled": true
   },
   "outputs": [
    {
     "name": "stdout",
     "output_type": "stream",
     "text": [
      "[1]\t train loss: 0.029287\t valid loss: 0.027073\n",
      "accuraccy = 0.843\n",
      "[2]\t train loss: 0.024505\t valid loss: 0.022905\n",
      "accuraccy = 0.888\n",
      "[3]\t train loss: 0.021785\t valid loss: 0.021317\n",
      "accuraccy = 0.893\n",
      "[4]\t train loss: 0.020876\t valid loss: 0.020744\n",
      "accuraccy = 0.900\n",
      "[5]\t train loss: 0.020473\t valid loss: 0.020472\n",
      "accuraccy = 0.902\n",
      "[6]\t train loss: 0.020237\t valid loss: 0.020187\n",
      "accuraccy = 0.906\n",
      "[7]\t train loss: 0.020051\t valid loss: 0.020001\n",
      "accuraccy = 0.920\n",
      "[8]\t train loss: 0.019886\t valid loss: 0.019816\n",
      "accuraccy = 0.939\n",
      "[9]\t train loss: 0.019742\t valid loss: 0.019680\n",
      "accuraccy = 0.948\n",
      "[10]\t train loss: 0.019591\t valid loss: 0.019540\n",
      "accuraccy = 0.950\n",
      "[11]\t train loss: 0.019481\t valid loss: 0.019526\n",
      "accuraccy = 0.953\n",
      "[12]\t train loss: 0.019368\t valid loss: 0.019443\n",
      "accuraccy = 0.954\n",
      "[13]\t train loss: 0.019277\t valid loss: 0.019274\n",
      "accuraccy = 0.959\n",
      "[14]\t train loss: 0.019211\t valid loss: 0.019231\n",
      "accuraccy = 0.960\n",
      "[15]\t train loss: 0.019160\t valid loss: 0.019148\n",
      "accuraccy = 0.961\n",
      "[16]\t train loss: 0.019131\t valid loss: 0.019133\n",
      "accuraccy = 0.962\n",
      "[17]\t train loss: 0.019092\t valid loss: 0.019765\n",
      "accuraccy = 0.912\n",
      "[18]\t train loss: 0.019074\t valid loss: 0.019110\n",
      "accuraccy = 0.963\n",
      "[19]\t train loss: 0.019062\t valid loss: 0.019160\n",
      "accuraccy = 0.960\n",
      "[20]\t train loss: 0.019027\t valid loss: 0.019103\n",
      "accuraccy = 0.963\n",
      "[21]\t train loss: 0.019023\t valid loss: 0.019116\n",
      "accuraccy = 0.961\n",
      "[22]\t train loss: 0.018979\t valid loss: 0.019047\n",
      "accuraccy = 0.964\n",
      "[23]\t train loss: 0.018974\t valid loss: 0.018996\n",
      "accuraccy = 0.966\n",
      "[24]\t train loss: 0.018970\t valid loss: 0.018997\n",
      "accuraccy = 0.966\n",
      "[25]\t train loss: 0.018955\t valid loss: 0.018996\n",
      "accuraccy = 0.965\n",
      "[26]\t train loss: 0.018937\t valid loss: 0.018979\n",
      "accuraccy = 0.967\n",
      "[27]\t train loss: 0.018931\t valid loss: 0.018976\n",
      "accuraccy = 0.967\n",
      "[28]\t train loss: 0.018923\t valid loss: 0.018973\n",
      "accuraccy = 0.966\n",
      "[29]\t train loss: 0.018916\t valid loss: 0.019017\n",
      "accuraccy = 0.965\n",
      "[30]\t train loss: 0.018920\t valid loss: 0.018994\n",
      "accuraccy = 0.963\n",
      "[31]\t train loss: 0.018898\t valid loss: 0.018963\n",
      "accuraccy = 0.966\n",
      "[32]\t train loss: 0.018887\t valid loss: 0.018950\n",
      "accuraccy = 0.967\n",
      "[33]\t train loss: 0.018899\t valid loss: 0.019044\n",
      "accuraccy = 0.961\n",
      "[34]\t train loss: 0.018910\t valid loss: 0.018975\n",
      "accuraccy = 0.963\n",
      "[35]\t train loss: 0.018864\t valid loss: 0.018929\n",
      "accuraccy = 0.967\n",
      "[36]\t train loss: 0.018875\t valid loss: 0.018934\n",
      "accuraccy = 0.967\n",
      "[37]\t train loss: 0.018877\t valid loss: 0.019079\n",
      "accuraccy = 0.958\n",
      "[38]\t train loss: 0.018865\t valid loss: 0.018933\n",
      "accuraccy = 0.966\n",
      "[39]\t train loss: 0.018857\t valid loss: 0.018907\n",
      "accuraccy = 0.967\n",
      "[40]\t train loss: 0.018866\t valid loss: 0.018950\n",
      "accuraccy = 0.966\n",
      "[41]\t train loss: 0.018842\t valid loss: 0.018913\n",
      "accuraccy = 0.967\n",
      "[42]\t train loss: 0.018837\t valid loss: 0.018887\n",
      "accuraccy = 0.968\n",
      "[43]\t train loss: 0.018852\t valid loss: 0.018921\n",
      "accuraccy = 0.965\n",
      "[44]\t train loss: 0.018839\t valid loss: 0.018917\n",
      "accuraccy = 0.968\n",
      "[45]\t train loss: 0.018841\t valid loss: 0.018964\n",
      "accuraccy = 0.965\n",
      "[46]\t train loss: 0.018823\t valid loss: 0.018897\n",
      "accuraccy = 0.968\n",
      "[47]\t train loss: 0.018811\t valid loss: 0.018897\n",
      "accuraccy = 0.968\n",
      "[48]\t train loss: 0.018818\t valid loss: 0.018888\n",
      "accuraccy = 0.968\n",
      "[49]\t train loss: 0.018830\t valid loss: 0.018922\n",
      "accuraccy = 0.964\n",
      "[50]\t train loss: 0.018844\t valid loss: 0.018949\n",
      "accuraccy = 0.963\n",
      "[51]\t train loss: 0.018808\t valid loss: 0.018879\n",
      "accuraccy = 0.969\n",
      "[52]\t train loss: 0.018814\t valid loss: 0.018889\n",
      "accuraccy = 0.967\n",
      "[53]\t train loss: 0.018801\t valid loss: 0.018869\n",
      "accuraccy = 0.970\n",
      "[54]\t train loss: 0.018809\t valid loss: 0.018908\n",
      "accuraccy = 0.966\n",
      "[55]\t train loss: 0.018801\t valid loss: 0.018863\n",
      "accuraccy = 0.969\n",
      "[56]\t train loss: 0.018811\t valid loss: 0.018912\n",
      "accuraccy = 0.967\n",
      "[57]\t train loss: 0.018787\t valid loss: 0.018860\n",
      "accuraccy = 0.969\n",
      "[58]\t train loss: 0.018785\t valid loss: 0.018876\n",
      "accuraccy = 0.969\n",
      "[59]\t train loss: 0.018800\t valid loss: 0.018913\n",
      "accuraccy = 0.965\n",
      "[60]\t train loss: 0.018781\t valid loss: 0.018854\n",
      "accuraccy = 0.968\n",
      "[61]\t train loss: 0.018785\t valid loss: 0.018859\n",
      "accuraccy = 0.970\n",
      "[62]\t train loss: 0.018784\t valid loss: 0.018854\n",
      "accuraccy = 0.969\n",
      "[63]\t train loss: 0.018781\t valid loss: 0.018843\n",
      "accuraccy = 0.969\n",
      "[64]\t train loss: 0.018777\t valid loss: 0.018849\n",
      "accuraccy = 0.969\n",
      "[65]\t train loss: 0.018775\t valid loss: 0.020555\n",
      "accuraccy = 0.858\n",
      "[66]\t train loss: 0.018850\t valid loss: 0.018920\n",
      "accuraccy = 0.965\n",
      "[67]\t train loss: 0.018799\t valid loss: 0.018876\n",
      "accuraccy = 0.968\n",
      "[68]\t train loss: 0.018800\t valid loss: 0.018859\n",
      "accuraccy = 0.969\n",
      "[69]\t train loss: 0.018792\t valid loss: 0.018875\n",
      "accuraccy = 0.968\n",
      "[70]\t train loss: 0.018792\t valid loss: 0.018850\n",
      "accuraccy = 0.969\n",
      "[71]\t train loss: 0.018780\t valid loss: 0.018858\n",
      "accuraccy = 0.969\n",
      "[72]\t train loss: 0.018774\t valid loss: 0.018852\n",
      "accuraccy = 0.969\n",
      "[73]\t train loss: 0.018778\t valid loss: 0.018836\n",
      "accuraccy = 0.971\n",
      "[74]\t train loss: 0.018769\t valid loss: 0.018835\n",
      "accuraccy = 0.971\n",
      "[75]\t train loss: 0.018761\t valid loss: 0.018837\n",
      "accuraccy = 0.970\n",
      "[76]\t train loss: 0.018765\t valid loss: 0.018826\n",
      "accuraccy = 0.972\n",
      "[77]\t train loss: 0.018759\t valid loss: 0.018825\n",
      "accuraccy = 0.972\n",
      "[78]\t train loss: 0.018755\t valid loss: 0.018817\n",
      "accuraccy = 0.974\n",
      "[79]\t train loss: 0.018743\t valid loss: 0.018805\n",
      "accuraccy = 0.975\n",
      "[80]\t train loss: 0.018744\t valid loss: 0.018804\n",
      "accuraccy = 0.976\n",
      "[81]\t train loss: 0.018729\t valid loss: 0.018819\n",
      "accuraccy = 0.976\n",
      "[82]\t train loss: 0.018733\t valid loss: 0.018874\n",
      "accuraccy = 0.972\n",
      "[83]\t train loss: 0.018739\t valid loss: 0.018872\n",
      "accuraccy = 0.972\n",
      "[84]\t train loss: 0.018724\t valid loss: 0.018807\n",
      "accuraccy = 0.975\n",
      "[85]\t train loss: 0.018704\t valid loss: 0.018767\n",
      "accuraccy = 0.976\n",
      "[86]\t train loss: 0.018710\t valid loss: 0.018821\n",
      "accuraccy = 0.973\n",
      "[87]\t train loss: 0.018683\t valid loss: 0.018764\n",
      "accuraccy = 0.978\n",
      "[88]\t train loss: 0.018685\t valid loss: 0.018754\n",
      "accuraccy = 0.977\n",
      "[89]\t train loss: 0.018688\t valid loss: 0.018746\n",
      "accuraccy = 0.979\n",
      "[90]\t train loss: 0.018677\t valid loss: 0.018743\n",
      "accuraccy = 0.978\n",
      "[91]\t train loss: 0.018674\t valid loss: 0.018747\n",
      "accuraccy = 0.978\n",
      "[92]\t train loss: 0.018687\t valid loss: 0.018763\n",
      "accuraccy = 0.978\n",
      "[93]\t train loss: 0.018674\t valid loss: 0.018745\n",
      "accuraccy = 0.979\n",
      "[94]\t train loss: 0.018658\t valid loss: 0.018729\n",
      "accuraccy = 0.979\n",
      "[95]\t train loss: 0.018663\t valid loss: 0.018736\n",
      "accuraccy = 0.979\n",
      "[96]\t train loss: 0.018658\t valid loss: 0.018720\n",
      "accuraccy = 0.980\n",
      "[97]\t train loss: 0.018652\t valid loss: 0.018738\n",
      "accuraccy = 0.979\n",
      "[98]\t train loss: 0.018659\t valid loss: 0.018719\n",
      "accuraccy = 0.980\n",
      "[99]\t train loss: 0.018649\t valid loss: 0.018729\n",
      "accuraccy = 0.978\n",
      "[100]\t train loss: 0.018649\t valid loss: 0.018713\n",
      "accuraccy = 0.980\n",
      "[101]\t train loss: 0.018654\t valid loss: 0.018736\n",
      "accuraccy = 0.978\n",
      "[102]\t train loss: 0.018650\t valid loss: 0.018732\n",
      "accuraccy = 0.980\n",
      "[103]\t train loss: 0.018649\t valid loss: 0.018716\n",
      "accuraccy = 0.980\n",
      "[104]\t train loss: 0.018642\t valid loss: 0.018725\n",
      "accuraccy = 0.981\n",
      "[105]\t train loss: 0.018644\t valid loss: 0.018709\n",
      "accuraccy = 0.981\n",
      "[106]\t train loss: 0.018652\t valid loss: 0.018740\n",
      "accuraccy = 0.978\n",
      "[107]\t train loss: 0.018637\t valid loss: 0.018712\n",
      "accuraccy = 0.979\n",
      "[108]\t train loss: 0.018649\t valid loss: 0.018811\n",
      "accuraccy = 0.972\n",
      "[109]\t train loss: 0.018636\t valid loss: 0.018713\n",
      "accuraccy = 0.980\n",
      "[110]\t train loss: 0.018654\t valid loss: 0.018712\n",
      "accuraccy = 0.981\n",
      "[111]\t train loss: 0.018630\t valid loss: 0.018714\n",
      "accuraccy = 0.978\n",
      "[112]\t train loss: 0.018642\t valid loss: 0.018723\n",
      "accuraccy = 0.980\n",
      "[113]\t train loss: 0.018630\t valid loss: 0.018703\n",
      "accuraccy = 0.980\n",
      "[114]\t train loss: 0.018620\t valid loss: 0.018707\n",
      "accuraccy = 0.980\n",
      "[115]\t train loss: 0.018632\t valid loss: 0.018704\n",
      "accuraccy = 0.980\n",
      "[116]\t train loss: 0.018621\t valid loss: 0.018700\n",
      "accuraccy = 0.981\n",
      "[117]\t train loss: 0.018624\t valid loss: 0.018700\n",
      "accuraccy = 0.980\n",
      "[118]\t train loss: 0.018633\t valid loss: 0.018774\n",
      "accuraccy = 0.976\n",
      "[119]\t train loss: 0.018619\t valid loss: 0.018710\n",
      "accuraccy = 0.981\n",
      "[120]\t train loss: 0.018617\t valid loss: 0.018700\n",
      "accuraccy = 0.981\n",
      "[121]\t train loss: 0.018622\t valid loss: 0.018698\n",
      "accuraccy = 0.980\n",
      "[122]\t train loss: 0.018613\t valid loss: 0.018737\n",
      "accuraccy = 0.977\n",
      "[123]\t train loss: 0.018628\t valid loss: 0.018733\n",
      "accuraccy = 0.977\n",
      "[124]\t train loss: 0.018612\t valid loss: 0.018692\n",
      "accuraccy = 0.981\n",
      "[125]\t train loss: 0.018617\t valid loss: 0.018692\n",
      "accuraccy = 0.981\n",
      "[126]\t train loss: 0.018622\t valid loss: 0.018752\n",
      "accuraccy = 0.976\n",
      "[127]\t train loss: 0.018609\t valid loss: 0.018694\n",
      "accuraccy = 0.981\n",
      "[128]\t train loss: 0.018609\t valid loss: 0.018705\n",
      "accuraccy = 0.980\n",
      "[129]\t train loss: 0.018608\t valid loss: 0.018699\n",
      "accuraccy = 0.980\n",
      "[130]\t train loss: 0.018627\t valid loss: 0.018702\n",
      "accuraccy = 0.979\n",
      "[131]\t train loss: 0.018600\t valid loss: 0.018701\n",
      "accuraccy = 0.980\n",
      "[132]\t train loss: 0.018614\t valid loss: 0.018692\n",
      "accuraccy = 0.981\n",
      "[133]\t train loss: 0.018600\t valid loss: 0.018692\n",
      "accuraccy = 0.980\n",
      "[134]\t train loss: 0.018605\t valid loss: 0.018691\n",
      "accuraccy = 0.981\n",
      "[135]\t train loss: 0.018603\t valid loss: 0.018689\n",
      "accuraccy = 0.980\n",
      "[136]\t train loss: 0.018595\t valid loss: 0.018681\n",
      "accuraccy = 0.981\n",
      "[137]\t train loss: 0.018597\t valid loss: 0.018682\n",
      "accuraccy = 0.981\n",
      "[138]\t train loss: 0.018600\t valid loss: 0.018689\n",
      "accuraccy = 0.981\n",
      "[139]\t train loss: 0.018608\t valid loss: 0.018712\n",
      "accuraccy = 0.978\n",
      "[140]\t train loss: 0.018598\t valid loss: 0.018678\n",
      "accuraccy = 0.981\n",
      "[141]\t train loss: 0.018611\t valid loss: 0.019285\n",
      "accuraccy = 0.950\n",
      "[142]\t train loss: 0.018601\t valid loss: 0.018692\n",
      "accuraccy = 0.981\n",
      "[143]\t train loss: 0.018603\t valid loss: 0.018686\n",
      "accuraccy = 0.981\n",
      "[144]\t train loss: 0.018600\t valid loss: 0.018685\n",
      "accuraccy = 0.980\n",
      "[145]\t train loss: 0.018591\t valid loss: 0.018686\n",
      "accuraccy = 0.981\n",
      "[146]\t train loss: 0.018598\t valid loss: 0.018695\n",
      "accuraccy = 0.979\n",
      "[147]\t train loss: 0.018608\t valid loss: 0.018719\n",
      "accuraccy = 0.978\n",
      "[148]\t train loss: 0.018608\t valid loss: 0.018740\n",
      "accuraccy = 0.976\n",
      "[149]\t train loss: 0.018591\t valid loss: 0.018681\n",
      "accuraccy = 0.981\n",
      "[150]\t train loss: 0.018593\t valid loss: 0.018687\n",
      "accuraccy = 0.981\n",
      "[151]\t train loss: 0.018601\t valid loss: 0.018730\n",
      "accuraccy = 0.978\n",
      "[152]\t train loss: 0.018620\t valid loss: 0.018794\n",
      "accuraccy = 0.974\n",
      "[153]\t train loss: 0.018603\t valid loss: 0.018684\n",
      "accuraccy = 0.981\n",
      "[154]\t train loss: 0.018599\t valid loss: 0.018679\n",
      "accuraccy = 0.981\n",
      "[155]\t train loss: 0.018609\t valid loss: 0.018781\n",
      "accuraccy = 0.974\n",
      "[156]\t train loss: 0.018588\t valid loss: 0.018701\n",
      "accuraccy = 0.979\n",
      "[157]\t train loss: 0.018597\t valid loss: 0.018686\n",
      "accuraccy = 0.980\n",
      "[158]\t train loss: 0.018609\t valid loss: 0.018704\n",
      "accuraccy = 0.978\n",
      "[159]\t train loss: 0.018604\t valid loss: 0.018741\n",
      "accuraccy = 0.977\n",
      "[160]\t train loss: 0.018596\t valid loss: 0.018686\n",
      "accuraccy = 0.981\n",
      "[161]\t train loss: 0.018598\t valid loss: 0.018686\n",
      "accuraccy = 0.981\n",
      "[162]\t train loss: 0.018583\t valid loss: 0.018690\n",
      "accuraccy = 0.980\n",
      "[163]\t train loss: 0.018586\t valid loss: 0.018742\n",
      "accuraccy = 0.978\n",
      "[164]\t train loss: 0.018595\t valid loss: 0.018696\n",
      "accuraccy = 0.980\n",
      "[165]\t train loss: 0.018595\t valid loss: 0.018693\n",
      "accuraccy = 0.980\n",
      "[166]\t train loss: 0.018592\t valid loss: 0.018688\n",
      "accuraccy = 0.980\n",
      "[167]\t train loss: 0.018597\t valid loss: 0.018730\n",
      "accuraccy = 0.978\n",
      "[168]\t train loss: 0.018589\t valid loss: 0.018690\n",
      "accuraccy = 0.980\n",
      "[169]\t train loss: 0.018590\t valid loss: 0.018694\n",
      "accuraccy = 0.980\n",
      "[170]\t train loss: 0.018595\t valid loss: 0.018710\n",
      "accuraccy = 0.979\n",
      "[171]\t train loss: 0.018590\t valid loss: 0.018695\n",
      "accuraccy = 0.980\n",
      "[172]\t train loss: 0.018577\t valid loss: 0.018686\n",
      "accuraccy = 0.981\n",
      "[173]\t train loss: 0.018582\t valid loss: 0.018689\n",
      "accuraccy = 0.980\n",
      "[174]\t train loss: 0.018596\t valid loss: 0.018752\n",
      "accuraccy = 0.975\n",
      "[175]\t train loss: 0.018583\t valid loss: 0.018679\n",
      "accuraccy = 0.980\n",
      "[176]\t train loss: 0.018580\t valid loss: 0.018689\n",
      "accuraccy = 0.980\n",
      "[177]\t train loss: 0.018586\t valid loss: 0.018742\n",
      "accuraccy = 0.977\n",
      "[178]\t train loss: 0.018580\t valid loss: 0.018685\n",
      "accuraccy = 0.980\n",
      "[179]\t train loss: 0.018578\t valid loss: 0.018694\n",
      "accuraccy = 0.980\n",
      "[180]\t train loss: 0.018578\t valid loss: 0.018677\n",
      "accuraccy = 0.981\n",
      "[181]\t train loss: 0.018581\t valid loss: 0.018678\n",
      "accuraccy = 0.980\n",
      "[182]\t train loss: 0.018574\t valid loss: 0.018685\n",
      "accuraccy = 0.980\n",
      "[183]\t train loss: 0.018571\t valid loss: 0.018680\n",
      "accuraccy = 0.981\n",
      "[184]\t train loss: 0.018591\t valid loss: 0.018726\n",
      "accuraccy = 0.976\n",
      "[185]\t train loss: 0.018575\t valid loss: 0.018971\n",
      "accuraccy = 0.970\n",
      "[186]\t train loss: 0.018583\t valid loss: 0.018705\n",
      "accuraccy = 0.979\n",
      "[187]\t train loss: 0.018582\t valid loss: 0.018694\n",
      "accuraccy = 0.979\n",
      "[188]\t train loss: 0.018580\t valid loss: 0.018682\n",
      "accuraccy = 0.980\n",
      "[189]\t train loss: 0.018572\t valid loss: 0.018693\n",
      "accuraccy = 0.979\n",
      "[190]\t train loss: 0.018568\t valid loss: 0.018689\n",
      "accuraccy = 0.980\n",
      "[191]\t train loss: 0.018568\t valid loss: 0.018683\n",
      "accuraccy = 0.981\n",
      "[192]\t train loss: 0.018572\t valid loss: 0.018680\n",
      "accuraccy = 0.981\n",
      "[193]\t train loss: 0.018571\t valid loss: 0.018677\n",
      "accuraccy = 0.981\n",
      "[194]\t train loss: 0.018585\t valid loss: 0.018701\n",
      "accuraccy = 0.979\n",
      "[195]\t train loss: 0.018572\t valid loss: 0.018673\n",
      "accuraccy = 0.981\n",
      "[196]\t train loss: 0.018577\t valid loss: 0.018683\n",
      "accuraccy = 0.980\n",
      "[197]\t train loss: 0.018571\t valid loss: 0.018680\n",
      "accuraccy = 0.980\n",
      "[198]\t train loss: 0.018584\t valid loss: 0.018679\n",
      "accuraccy = 0.980\n",
      "[199]\t train loss: 0.018568\t valid loss: 0.018695\n",
      "accuraccy = 0.981\n",
      "[200]\t train loss: 0.018574\t valid loss: 0.018676\n",
      "accuraccy = 0.981\n",
      "Finished Training\n"
     ]
    }
   ],
   "source": [
    "from torch import optim\n",
    "\n",
    "criterion = nn.CrossEntropyLoss()\n",
    "optimizer = optim.SGD(model.parameters(), lr=0.002)\n",
    "\n",
    "\n",
    "for epoch in range(250):  \n",
    "    for phase in ['train', 'valid']:\n",
    "        running_loss = 0.0\n",
    "        \n",
    "        if phase == 'train':\n",
    "            model.train(True)  # Set trainind mode = true\n",
    "            dataloader = trainloader\n",
    "        else:\n",
    "            model.train(False)  # Set model to evaluate mode\n",
    "            dataloader = validloader\n",
    "        \n",
    "        for i, data in enumerate(dataloader):\n",
    "            inputs, labels = data\n",
    "\n",
    "            if phase == 'train':\n",
    "                optimizer.zero_grad()  # zero the parameter gradients\n",
    "                outputs = model(inputs)\n",
    "                loss = criterion(outputs, labels)\n",
    "                loss.backward()\n",
    "                optimizer.step()\n",
    "            else:\n",
    "                with torch.no_grad():\n",
    "                    outputs = model(inputs)\n",
    "                    loss = criterion(outputs, labels)\n",
    "                \n",
    "            running_loss += loss.item()\n",
    "        \n",
    "        if phase == 'train':\n",
    "            train_loss = running_loss / len(dataloader.dataset)\n",
    "            train_loss_vec.append(train_loss)\n",
    "        else:\n",
    "            valid_loss = running_loss / len(dataloader.dataset)\n",
    "            valid_loss_vec.append(valid_loss)\n",
    "\n",
    "   \n",
    "    print(f'[{epoch + 1}]\\t train loss: {train_loss:.6f}\\t valid loss: {valid_loss:.6f}')\n",
    "    get_predicted_and_true_labels(validloader)\n",
    "    running_loss = 0.0\n",
    "\n",
    "print('Finished Training')"
   ]
  },
  {
   "cell_type": "code",
   "execution_count": 53,
   "metadata": {},
   "outputs": [
    {
     "data": {
      "image/png": "[encoded data removed]",
      "text/plain": [
       "<Figure size 1080x576 with 1 Axes>"
      ]
     },
     "metadata": {
      "needs_background": "light"
     },
     "output_type": "display_data"
    }
   ],
   "source": [
    "plt.plot(train_loss_vec)\n",
    "plt.plot(valid_loss_vec)\n",
    "plt.show()"
   ]
  },
  {
   "cell_type": "code",
   "execution_count": null,
   "metadata": {
    "scrolled": true
   },
   "outputs": [],
   "source": []
  },
  {
   "cell_type": "code",
   "execution_count": null,
   "metadata": {},
   "outputs": [],
   "source": []
  },
  {
   "cell_type": "code",
   "execution_count": null,
   "metadata": {},
   "outputs": [],
   "source": []
  },
  {
   "cell_type": "code",
   "execution_count": null,
   "metadata": {},
   "outputs": [],
   "source": []
  },
  {
   "cell_type": "code",
   "execution_count": 55,
   "metadata": {},
   "outputs": [
    {
     "name": "stdout",
     "output_type": "stream",
     "text": [
      "accuraccy = 0.980\n",
      "svm_ndvi_kappa=0.875, accuraccy=0.980\n",
      "svm_ndvi_kappa=0.875, accuraccy=0.980\n"
     ]
    },
    {
     "data": {
      "image/png": "[encoded data removed]",
      "text/plain": [
       "<Figure size 1080x576 with 2 Axes>"
      ]
     },
     "metadata": {
      "needs_background": "light"
     },
     "output_type": "display_data"
    },
    {
     "data": {
      "image/png": "[encoded data removed]",
      "text/plain": [
       "<Figure size 1080x576 with 2 Axes>"
      ]
     },
     "metadata": {
      "needs_background": "light"
     },
     "output_type": "display_data"
    }
   ],
   "source": [
    "y_predicted_labels_test, y_test_labels = get_predicted_and_true_labels(testloader)\n",
    "draw_prediction_matrix_for_test_data(y_predicted_labels_test, y_test_labels)\n",
    "draw_prediction_matrix_for_test_data(y_predicted_labels_test, y_test_labels, normalize=None)"
   ]
  },
  {
   "cell_type": "code",
   "execution_count": null,
   "metadata": {},
   "outputs": [],
   "source": []
  },
  {
   "cell_type": "code",
   "execution_count": null,
   "metadata": {},
   "outputs": [],
   "source": []
  },
  {
   "cell_type": "code",
   "execution_count": null,
   "metadata": {},
   "outputs": [],
   "source": []
  },
  {
   "cell_type": "code",
   "execution_count": null,
   "metadata": {},
   "outputs": [],
   "source": []
  },
  {
   "cell_type": "code",
   "execution_count": null,
   "metadata": {},
   "outputs": [],
   "source": []
  },
  {
   "cell_type": "code",
   "execution_count": null,
   "metadata": {},
   "outputs": [],
   "source": []
  },
  {
   "cell_type": "code",
   "execution_count": null,
   "metadata": {},
   "outputs": [],
   "source": []
  },
  {
   "cell_type": "code",
   "execution_count": null,
   "metadata": {},
   "outputs": [],
   "source": []
  },
  {
   "cell_type": "code",
   "execution_count": null,
   "metadata": {},
   "outputs": [],
   "source": []
  },
  {
   "cell_type": "code",
   "execution_count": null,
   "metadata": {},
   "outputs": [],
   "source": []
  },
  {
   "cell_type": "code",
   "execution_count": null,
   "metadata": {},
   "outputs": [],
   "source": []
  },
  {
   "cell_type": "code",
   "execution_count": null,
   "metadata": {},
   "outputs": [],
   "source": []
  }
 ],
 "metadata": {
  "kernelspec": {
   "display_name": "Python 3.8.0 ('venv': venv)",
   "language": "python",
   "name": "python3"
  },
  "language_info": {
   "codemirror_mode": {
    "name": "ipython",
    "version": 3
   },
   "file_extension": ".py",
   "mimetype": "text/x-python",
   "name": "python",
   "nbconvert_exporter": "python",
   "pygments_lexer": "ipython3",
   "version": "3.8.0"
  },
  "vscode": {
   "interpreter": {
    "hash": "453c204b3f8c7b1daec18e369dbca41a43ef83b53879b5da501a9e5377e85acd"
   }
  }
 },
 "nbformat": 4,
 "nbformat_minor": 4
}
